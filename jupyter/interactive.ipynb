{
 "cells": [
  {
   "cell_type": "markdown",
   "id": "f05c4a6a-1277-4e46-8384-700c0d106d8a",
   "metadata": {},
   "source": [
    "# Interactive field generation"
   ]
  },
  {
   "cell_type": "markdown",
   "id": "8e78f968-1b54-4629-966b-73180aebb6fd",
   "metadata": {},
   "source": [
    "In order to explore the capabilities of `parafields`, this notebook allows you to interactively explore the field generation process. Note that you need to install the `jupyter` extra dependencies to run this notebook e.g. with\n",
    "\n",
    "```\n",
    "python -m pip install parafields[jupyter]\n",
    "```\n",
    "\n",
    "Additionally, you need your favorite Jupyter frontend e.g. JupyterLab."
   ]
  },
  {
   "cell_type": "code",
   "execution_count": null,
   "id": "d70d3904-afda-4e93-a1d9-66bf8797af40",
   "metadata": {},
   "outputs": [],
   "source": [
    "from mpi4py import MPI\n",
    "import parafields"
   ]
  },
  {
   "cell_type": "code",
   "execution_count": null,
   "id": "b7d40991-0b8d-4fcf-aaaf-5db9c5f38a14",
   "metadata": {},
   "outputs": [],
   "source": [
    "parafields.interactive_field_generation()"
   ]
  },
  {
   "cell_type": "code",
   "execution_count": null,
   "id": "53ed26bb-c84c-4b78-af73-e0a1214b2473",
   "metadata": {},
   "outputs": [],
   "source": []
  }
 ],
 "metadata": {
  "kernelspec": {
   "display_name": "Python 3 (ipykernel)",
   "language": "python",
   "name": "python3"
  },
  "language_info": {
   "codemirror_mode": {
    "name": "ipython",
    "version": 3
   },
   "file_extension": ".py",
   "mimetype": "text/x-python",
   "name": "python",
   "nbconvert_exporter": "python",
   "pygments_lexer": "ipython3",
   "version": "3.10.5"
  }
 },
 "nbformat": 4,
 "nbformat_minor": 5
}
