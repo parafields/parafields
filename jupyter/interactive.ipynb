{
 "cells": [
  {
   "cell_type": "markdown",
   "id": "f05c4a6a-1277-4e46-8384-700c0d106d8a",
   "metadata": {},
   "source": [
    "## Interactive field generation"
   ]
  },
  {
   "cell_type": "markdown",
   "id": "8e78f968-1b54-4629-966b-73180aebb6fd",
   "metadata": {},
   "source": [
    "In order to explore the capabilities of `parafields`, we provide functionality to interactively explore the field generation process. Note that you need to install the `jupyter` extra dependencies to run this notebook e.g. with\n",
    "\n",
    "```\n",
    "python -m pip install parafields[jupyter]\n",
    "```\n",
    "\n",
    "Additionally, you need your favorite Jupyter frontend e.g. JupyterLab."
   ]
  },
  {
   "cell_type": "code",
   "execution_count": null,
   "id": "d70d3904-afda-4e93-a1d9-66bf8797af40",
   "metadata": {},
   "outputs": [],
   "source": [
    "import parafields"
   ]
  },
  {
   "cell_type": "markdown",
   "id": "357ae088-869a-4075-b068-2644c1dd082f",
   "metadata": {},
   "source": [
    "Instead of using `parafields.generate_field`, we use `parafields.interactive_generate_field`:"
   ]
  },
  {
   "cell_type": "code",
   "execution_count": null,
   "id": "b7d40991-0b8d-4fcf-aaaf-5db9c5f38a14",
   "metadata": {},
   "outputs": [],
   "source": [
    "field = parafields.interactive_generate_field()"
   ]
  },
  {
   "cell_type": "markdown",
   "id": "951ff9d7-3d67-4314-8775-eba7df1f0b36",
   "metadata": {},
   "source": [
    "You can now play around with the available configuration options. The `field` object returned in above code is automatically updated, whenever you click \"Show Realization\" and can be subsequently used like a normal `RandomField` object."
   ]
  }
 ],
 "metadata": {
  "kernelspec": {
   "display_name": "Python 3 (ipykernel)",
   "language": "python",
   "name": "python3"
  },
  "language_info": {
   "codemirror_mode": {
    "name": "ipython",
    "version": 3
   },
   "file_extension": ".py",
   "mimetype": "text/x-python",
   "name": "python",
   "nbconvert_exporter": "python",
   "pygments_lexer": "ipython3",
   "version": "3.10.5"
  }
 },
 "nbformat": 4,
 "nbformat_minor": 5
}
