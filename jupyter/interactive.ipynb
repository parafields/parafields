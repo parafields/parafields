{
 "cells": [
  {
   "cell_type": "markdown",
   "id": "0",
   "metadata": {},
   "source": [
    "## Interactive field generation"
   ]
  },
  {
   "cell_type": "markdown",
   "id": "1",
   "metadata": {},
   "source": [
    "In order to explore the capabilities of `parafields`, we provide functionality to interactively explore the field generation process. Note that you need to install the `jupyter` extra dependencies to run this notebook e.g. with\n",
    "\n",
    "```\n",
    "python -m pip install parafields[jupyter]\n",
    "```\n",
    "\n",
    "Additionally, you need your favorite Jupyter frontend e.g. JupyterLab."
   ]
  },
  {
   "cell_type": "code",
   "execution_count": null,
   "id": "2",
   "metadata": {},
   "outputs": [],
   "source": [
    "import parafields"
   ]
  },
  {
   "cell_type": "markdown",
   "id": "3",
   "metadata": {},
   "source": [
    "Instead of using `parafields.generate_field`, we use `parafields.interactive_generate_field`:"
   ]
  },
  {
   "cell_type": "code",
   "execution_count": null,
   "id": "4",
   "metadata": {},
   "outputs": [],
   "source": [
    "field = parafields.interactive_generate_field()"
   ]
  },
  {
   "cell_type": "markdown",
   "id": "5",
   "metadata": {},
   "source": [
    "You can now interactively explore with the available configuration space. For two-dimensional fields, you also get interactive field visualizations. The `field` object returned in above code is automatically updated, whenever you click \"Show Realization\" and can be subsequently used like a normal `RandomField` object."
   ]
  },
  {
   "cell_type": "code",
   "execution_count": null,
   "id": "6",
   "metadata": {},
   "outputs": [],
   "source": [
    "field = parafields.interactive_add_trend_component(field)"
   ]
  }
 ],
 "metadata": {
  "kernelspec": {
   "display_name": "Python 3 (ipykernel)",
   "language": "python",
   "name": "python3"
  },
  "language_info": {
   "codemirror_mode": {
    "name": "ipython",
    "version": 3
   },
   "file_extension": ".py",
   "mimetype": "text/x-python",
   "name": "python",
   "nbconvert_exporter": "python",
   "pygments_lexer": "ipython3",
   "version": "3.10.4"
  }
 },
 "nbformat": 4,
 "nbformat_minor": 5
}
