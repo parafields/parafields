{
 "cells": [
  {
   "cell_type": "markdown",
   "id": "2e0ac63f-a40a-4b64-a22f-81e48dc1306a",
   "metadata": {},
   "source": [
    "## Parallel usage"
   ]
  },
  {
   "cell_type": "markdown",
   "id": "41b53a90-cf1c-4e4f-945f-1ba7e0388da7",
   "metadata": {},
   "source": [
    "This notebook explains how to use `parafields` in parallel. All features explained in the [Sequential Usage notebook](sequential.ipynb) are also valid in the parallel case. In order to run `parafields` in parallel, you need have installed it from source according to the installation instructions. Then, you need to initialize `mpi4py`:"
   ]
  },
  {
   "cell_type": "code",
   "execution_count": null,
   "id": "4680ac3c-c15e-47ca-9cfb-4d3015c62bad",
   "metadata": {},
   "outputs": [],
   "source": [
    "from mpi4py import MPI\n",
    "import parafields"
   ]
  },
  {
   "cell_type": "markdown",
   "id": "b1ed727c-f5b3-489e-a311-d2a93c3848e1",
   "metadata": {},
   "source": [
    "If you have not worked with `mpi4py`, it might be worthwhile to check their [beginner tutorial](https://mpi4py.readthedocs.io/en/stable/tutorial.html#running-python-scripts-with-mpi). The minimum take away message is that in order to run your code in parallel, you need to invoke the Python interpreter through `mpiexec`, e.g. like:\n",
    "\n",
    "```\n",
    "mpiexec -n 4 python yourscript.py\n",
    "```\n",
    "\n",
    "If you do not do this, your code will run sequentially."
   ]
  },
  {
   "cell_type": "markdown",
   "id": "d1c2a8bc-f1f0-4e2b-8651-2920659d59c3",
   "metadata": {},
   "source": [
    "### Passing communicators"
   ]
  },
  {
   "cell_type": "markdown",
   "id": "0d2c52fc-736e-4846-a906-2b8a5ba4e904",
   "metadata": {},
   "source": [
    "By default, `parafields` uses `MPI.COMM_WORLD` as the communicator. If you want to use a different one, you can create it in `mpi4py` and pass it to the `generate_field` function:"
   ]
  },
  {
   "cell_type": "code",
   "execution_count": null,
   "id": "86e64a9f-795a-4655-bb08-0dcbfd59e18a",
   "metadata": {},
   "outputs": [],
   "source": [
    "field = parafields.generate_field(comm=MPI.COMM_SELF)"
   ]
  },
  {
   "cell_type": "markdown",
   "id": "ac4a4211-f4ad-46b1-b55e-f55965bf20b2",
   "metadata": {},
   "source": [
    "### Data Distribution"
   ]
  },
  {
   "cell_type": "markdown",
   "id": "32b5f86c-254d-409b-8a0a-0babfb1b8c9f",
   "metadata": {},
   "source": [
    "The process of how `parafields` distributes the data to processors can be customized by passing the `partitioning` argument to `generate_field`. You can provide on of two things to `partitioning`:\n",
    "\n",
    "* A tuple of integers whose length is the domain dimensions. The product of all entries must match the number of processors. E.g. to distribute to 8 processors using a 2x2x2 cube topology, you need to pass `(2, 2, 2)`.\n",
    "* A function that accepts the number of processors and the resolution tuple as arguments and returns such tuple.\n",
    "\n",
    "This is an example of such function that generates a striped topology:"
   ]
  },
  {
   "cell_type": "code",
   "execution_count": null,
   "id": "83d1c093-f628-45f7-ab92-2f317b6cce2b",
   "metadata": {},
   "outputs": [],
   "source": [
    "def striped_partitioning(P, cells):\n",
    "    result = [1] * len(cells)\n",
    "    result[0] = P\n",
    "    return tuple(result)"
   ]
  },
  {
   "cell_type": "markdown",
   "id": "e0cb3f37-bda6-4a47-8697-0589f72570e3",
   "metadata": {},
   "source": [
    "It should be noted that there are some constraints to the partitioning process that arise from the internal workings of the FFTW library:\n",
    "\n",
    "* TODO: Write this"
   ]
  }
 ],
 "metadata": {
  "kernelspec": {
   "display_name": "Python 3 (ipykernel)",
   "language": "python",
   "name": "python3"
  },
  "language_info": {
   "codemirror_mode": {
    "name": "ipython",
    "version": 3
   },
   "file_extension": ".py",
   "mimetype": "text/x-python",
   "name": "python",
   "nbconvert_exporter": "python",
   "pygments_lexer": "ipython3",
   "version": "3.10.5"
  }
 },
 "nbformat": 4,
 "nbformat_minor": 5
}
