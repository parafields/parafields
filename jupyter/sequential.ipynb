{
 "cells": [
  {
   "cell_type": "markdown",
   "id": "0",
   "metadata": {},
   "source": [
    "## Sequential usage"
   ]
  },
  {
   "cell_type": "markdown",
   "id": "1",
   "metadata": {},
   "source": [
    "This notebook explains the basic usage of `parafields`. Everything that is explained here also holds true for the parallel case."
   ]
  },
  {
   "cell_type": "code",
   "execution_count": null,
   "id": "2",
   "metadata": {},
   "outputs": [],
   "source": [
    "import parafields\n",
    "import numpy as np"
   ]
  },
  {
   "cell_type": "markdown",
   "id": "3",
   "metadata": {},
   "source": [
    "The main entry point for the generation of Gaussian random fields is the `generate_field` function:"
   ]
  },
  {
   "cell_type": "code",
   "execution_count": null,
   "id": "4",
   "metadata": {},
   "outputs": [],
   "source": [
    "field = parafields.generate_field(\n",
    "    cells=(256, 256), extensions=(1.0, 1.0), covariance=\"exponential\", variance=1.0\n",
    ")"
   ]
  },
  {
   "cell_type": "markdown",
   "id": "5",
   "metadata": {},
   "source": [
    "The `cells` parameter defines the resolution of the random field and can be a tuple of length 1, 2 or 3. The `extensions` parameter defines the size of the domain that the field is defined on. The `covariance` and `variance` define those stochastic properties of the field. The resulting variable `field` is of type `parafields.RandomField` and can easily be visualized in a Jupyter notebook:"
   ]
  },
  {
   "cell_type": "code",
   "execution_count": null,
   "id": "6",
   "metadata": {},
   "outputs": [],
   "source": [
    "field"
   ]
  },
  {
   "cell_type": "markdown",
   "id": "7",
   "metadata": {},
   "source": [
    "In order to use the random field in your application, you can evaluate it on the entire domain, yielding a `d`-dimensional `numpy` array for further processing:"
   ]
  },
  {
   "cell_type": "code",
   "execution_count": null,
   "id": "8",
   "metadata": {},
   "outputs": [],
   "source": [
    "values = field.evaluate()"
   ]
  },
  {
   "cell_type": "code",
   "execution_count": null,
   "id": "9",
   "metadata": {},
   "outputs": [],
   "source": [
    "values"
   ]
  },
  {
   "cell_type": "markdown",
   "id": "10",
   "metadata": {},
   "source": [
    "### More stochastic properties"
   ]
  },
  {
   "cell_type": "markdown",
   "id": "11",
   "metadata": {},
   "source": [
    "The `generate_field` function supports a lot more parameter that control stochastic properties of the field. For a full reference, you should see the [Full API documentation](https://parafields.readthedocs.io/en/latest/api.html#parafields.generate_field). Here, we show some illustrative examples:"
   ]
  },
  {
   "cell_type": "code",
   "execution_count": null,
   "id": "12",
   "metadata": {},
   "outputs": [],
   "source": [
    "parafields.generate_field(cells=(256, 256), covariance=\"cubic\", variance=1.0)"
   ]
  },
  {
   "cell_type": "code",
   "execution_count": null,
   "id": "13",
   "metadata": {},
   "outputs": [],
   "source": [
    "parafields.generate_field(\n",
    "    cells=(256, 256), covariance=\"cauchy\", variance=0.5, corrLength=0.02\n",
    ")"
   ]
  },
  {
   "cell_type": "code",
   "execution_count": null,
   "id": "14",
   "metadata": {},
   "outputs": [],
   "source": [
    "parafields.generate_field(cells=(256, 256), covariance=\"whiteNoise\", variance=0.1)"
   ]
  },
  {
   "cell_type": "code",
   "execution_count": null,
   "id": "15",
   "metadata": {},
   "outputs": [],
   "source": [
    "parafields.generate_field(\n",
    "    cells=(256, 256),\n",
    "    covariance=\"gaussian\",\n",
    "    variance=0.1,\n",
    "    corrLength=0.1,\n",
    "    periodic=True,\n",
    ")"
   ]
  },
  {
   "cell_type": "code",
   "execution_count": null,
   "id": "16",
   "metadata": {},
   "outputs": [],
   "source": [
    "parafields.generate_field(\n",
    "    cells=(256, 256),\n",
    "    covariance=\"exponential\",\n",
    "    variance=1.0,\n",
    "    anisotropy=\"axiparallel\",\n",
    "    corrLength=[0.05, 0.2],\n",
    ")"
   ]
  },
  {
   "cell_type": "markdown",
   "id": "17",
   "metadata": {},
   "source": [
    "### Custom covariance functions"
   ]
  },
  {
   "cell_type": "markdown",
   "id": "18",
   "metadata": {},
   "source": [
    "`parafields` also allows the definition of user-defined stochastic input in Python. These functions are then called directly from the C++ backend. In this example, we redefine the exponential covariance structure that is available with `covariance=\"exponential\"`:"
   ]
  },
  {
   "cell_type": "code",
   "execution_count": null,
   "id": "19",
   "metadata": {},
   "outputs": [],
   "source": [
    "def exponential(variance, x):\n",
    "    return variance * np.exp(-np.linalg.norm(x))"
   ]
  },
  {
   "cell_type": "code",
   "execution_count": null,
   "id": "20",
   "metadata": {},
   "outputs": [],
   "source": [
    "parafields.generate_field(cells=(256, 256), covariance=exponential, variance=0.1)"
   ]
  },
  {
   "cell_type": "markdown",
   "id": "21",
   "metadata": {},
   "source": [
    "This is a very flexible tool for method development and rapid prototyping, but you should carefully look at the performance implications of this approach if using it in production (e.g. above example is slower by a factor of ~20)."
   ]
  },
  {
   "cell_type": "markdown",
   "id": "22",
   "metadata": {},
   "source": [
    "### Trend components"
   ]
  },
  {
   "cell_type": "markdown",
   "id": "23",
   "metadata": {},
   "source": [
    "So far, we only generated the stochastic part of a random field. However, `parafields` can also generate a variety of trend components that use the same random number generator. These are added by calling the respective methods on the field object:"
   ]
  },
  {
   "cell_type": "code",
   "execution_count": null,
   "id": "24",
   "metadata": {},
   "outputs": [],
   "source": [
    "field = parafields.generate_field(cells=(256, 256), covariance=\"exponential\")\n",
    "field.add_mean_trend_component(mean=0.5, variance=0.1)"
   ]
  },
  {
   "cell_type": "code",
   "execution_count": null,
   "id": "25",
   "metadata": {},
   "outputs": [],
   "source": [
    "field = parafields.generate_field(cells=(256, 256), covariance=\"exponential\")\n",
    "field.add_slope_trend_component(mean=[0.5, 0.2], variance=[0.1, 0.01])"
   ]
  },
  {
   "cell_type": "code",
   "execution_count": null,
   "id": "26",
   "metadata": {},
   "outputs": [],
   "source": [
    "field = parafields.generate_field(cells=(256, 256), covariance=\"exponential\")\n",
    "field.add_disk_trend_component(\n",
    "    mean_position=[0.25, 0.25],\n",
    "    variance_position=[0.1, 0.1],\n",
    "    mean_radius=0.1,\n",
    "    variance_radius=0.01,\n",
    "    mean_height=3.0,\n",
    "    variance_height=0.1,\n",
    ")"
   ]
  },
  {
   "cell_type": "code",
   "execution_count": null,
   "id": "27",
   "metadata": {},
   "outputs": [],
   "source": [
    "field = parafields.generate_field(cells=(256, 256), covariance=\"exponential\")\n",
    "field.add_block_trend_component(\n",
    "    mean_position=[0.25, 0.25],\n",
    "    variance_position=[0.1, 0.1],\n",
    "    mean_extent=[0.2, 0.2],\n",
    "    variance_extent=[0.01, 0.01],\n",
    "    mean_height=1.0,\n",
    "    variance_height=0.1,\n",
    ")"
   ]
  },
  {
   "cell_type": "markdown",
   "id": "28",
   "metadata": {},
   "source": [
    "### Deterministic Field generation"
   ]
  },
  {
   "cell_type": "markdown",
   "id": "29",
   "metadata": {},
   "source": [
    "The pseudo-random number generator that is used by `parafields` can be provided a seed. By default, the `seed` is parameter is `None`, which means that a new seed will be generated on each run. However, the seed can be explicitly set in order to allow deterministic field generation:"
   ]
  },
  {
   "cell_type": "code",
   "execution_count": null,
   "id": "30",
   "metadata": {},
   "outputs": [],
   "source": [
    "field1 = parafields.generate_field(\n",
    "    cells=(256, 256), covariance=\"exponential\", variance=1.0, seed=42\n",
    ")"
   ]
  },
  {
   "cell_type": "code",
   "execution_count": null,
   "id": "31",
   "metadata": {},
   "outputs": [],
   "source": [
    "field2 = parafields.generate_field(\n",
    "    cells=(256, 256), covariance=\"exponential\", variance=1.0, seed=42\n",
    ")"
   ]
  },
  {
   "cell_type": "code",
   "execution_count": null,
   "id": "32",
   "metadata": {},
   "outputs": [],
   "source": [
    "np.allclose(field1.evaluate(), field2.evaluate())"
   ]
  },
  {
   "cell_type": "markdown",
   "id": "33",
   "metadata": {},
   "source": [
    "If you want to create new realization of a random field with another seed, you can also explicitly regenerate the field:"
   ]
  },
  {
   "cell_type": "code",
   "execution_count": null,
   "id": "34",
   "metadata": {},
   "outputs": [],
   "source": [
    "field1.generate(seed=0)"
   ]
  },
  {
   "cell_type": "markdown",
   "id": "35",
   "metadata": {},
   "source": [
    "### Custom Random Number Generator"
   ]
  },
  {
   "cell_type": "markdown",
   "id": "36",
   "metadata": {},
   "source": [
    "If you need full control of the RNG used by `parafields`, you can pass a callable to the `rng` parameter. The callable is expected to return a drawn sample for each call (without parameters). If the RNG is supposed to use a specific seed, you are responsible for setting the seed before passing. This example uses an RNG provided by `numpy`:"
   ]
  },
  {
   "cell_type": "code",
   "execution_count": null,
   "id": "37",
   "metadata": {},
   "outputs": [],
   "source": [
    "gen = np.random.default_rng()\n",
    "rng = lambda: gen.random()"
   ]
  },
  {
   "cell_type": "code",
   "execution_count": null,
   "id": "38",
   "metadata": {},
   "outputs": [],
   "source": [
    "parafields.generate_field(cells=(256, 256), covariance=\"exponential\", rng=rng)"
   ]
  },
  {
   "cell_type": "markdown",
   "id": "39",
   "metadata": {},
   "source": [
    "### Tuning the embedding factor"
   ]
  },
  {
   "cell_type": "markdown",
   "id": "40",
   "metadata": {},
   "source": [
    "Depending on your choice of covariance structure and correlation length, the circulant embedding procedure might fail due to negative eigen values. In such cases, increasing the embedding factor (and thereby also the computational cost) allows generating valid fields. If you intend to generate a lot of realizations for a set of stochastic parameters, it is worth to finetune this parameter to the minimal number that does still produce a valid result. `parafields` implements a search strategy for this, which can be enabled by passing `autotune_embedding_factor=True` to field generation:"
   ]
  },
  {
   "cell_type": "code",
   "execution_count": null,
   "id": "41",
   "metadata": {},
   "outputs": [],
   "source": [
    "field = parafields.generate_field(\n",
    "    cells=(256, 256),\n",
    "    extensions=(1.0, 1.0),\n",
    "    covariance=\"gaussian\",\n",
    "    corrLength=0.5,\n",
    "    autotune_embedding_factor=True,\n",
    ")"
   ]
  },
  {
   "cell_type": "markdown",
   "id": "42",
   "metadata": {},
   "source": [
    "If you are interested in the actual embedding factor used for a certain field, you can access it through the `embedding_factor` property:"
   ]
  },
  {
   "cell_type": "code",
   "execution_count": null,
   "id": "43",
   "metadata": {},
   "outputs": [],
   "source": [
    "field.embedding_factor"
   ]
  }
 ],
 "metadata": {
  "kernelspec": {
   "display_name": "Python 3 (ipykernel)",
   "language": "python",
   "name": "python3"
  },
  "language_info": {
   "codemirror_mode": {
    "name": "ipython",
    "version": 3
   },
   "file_extension": ".py",
   "mimetype": "text/x-python",
   "name": "python",
   "nbconvert_exporter": "python",
   "pygments_lexer": "ipython3",
   "version": "3.11.0"
  }
 },
 "nbformat": 4,
 "nbformat_minor": 5
}
