{
 "cells": [
  {
   "cell_type": "markdown",
   "id": "b07e2d85-7694-4398-8849-02601e1f05ad",
   "metadata": {},
   "source": [
    "## Sequential usage"
   ]
  },
  {
   "cell_type": "markdown",
   "id": "0b1f4da7-8d62-4151-8689-d71d831ba7dd",
   "metadata": {},
   "source": [
    "This notebook explains the basic usage of `parafields`. Everything that is explained here also holds true for the parallel case."
   ]
  },
  {
   "cell_type": "code",
   "execution_count": null,
   "id": "0e079e78-0c6f-40c3-85dc-1f76dabd02cd",
   "metadata": {},
   "outputs": [],
   "source": [
    "import parafields\n",
    "import numpy as np"
   ]
  },
  {
   "cell_type": "markdown",
   "id": "d90af6b4-4864-41a2-a59b-61a344f9a86a",
   "metadata": {},
   "source": [
    "The main entry point for the generation of Gaussian random fields is the `generate_field` function:"
   ]
  },
  {
   "cell_type": "code",
   "execution_count": null,
   "id": "6c732138-33cf-496b-bc90-edc0b70157af",
   "metadata": {},
   "outputs": [],
   "source": [
    "field = parafields.generate_field(\n",
    "    cells=(256, 256), extensions=(1.0, 1.0), covariance=\"exponential\", variance=1.0\n",
    ")"
   ]
  },
  {
   "cell_type": "markdown",
   "id": "1a20c7c5-a8eb-4788-bec9-11ba562adb35",
   "metadata": {},
   "source": [
    "The `cells` parameter defines the resolution of the random field and can be a tuple of length 1, 2 or 3. The `extensions` parameter defines the size of the domain that the field is defined on. The `covariance` and `variance` define those stochastic properties of the field. The resulting variable `field` is of type `parafields.RandomField` and can easily be visualized in a Jupyter notebook:"
   ]
  },
  {
   "cell_type": "code",
   "execution_count": null,
   "id": "f9d88946-5117-4141-87a3-9b9dbd73cece",
   "metadata": {},
   "outputs": [],
   "source": [
    "field"
   ]
  },
  {
   "cell_type": "markdown",
   "id": "24c2da05-d426-4de0-84c1-02678bddd53e",
   "metadata": {},
   "source": [
    "In order to use the random field in your application, you can evaluate it on the entire domain, yielding a `d`-dimensional `numpy` array for further processing:"
   ]
  },
  {
   "cell_type": "code",
   "execution_count": null,
   "id": "4935c266-7335-4d01-be19-5a3b972659bd",
   "metadata": {},
   "outputs": [],
   "source": [
    "values = field.evaluate()"
   ]
  },
  {
   "cell_type": "code",
   "execution_count": null,
   "id": "a99780c0-fbd2-4a46-97c9-a35d96f497e9",
   "metadata": {},
   "outputs": [],
   "source": [
    "values"
   ]
  },
  {
   "cell_type": "markdown",
   "id": "ce89ef95-dbe3-4ddd-8a58-5e1e3586702b",
   "metadata": {},
   "source": [
    "### More stochastic properties"
   ]
  },
  {
   "cell_type": "markdown",
   "id": "90e768d6-2fa4-422e-933e-44e36ff69ca7",
   "metadata": {},
   "source": [
    "The `generate_field` function supports a lot more parameter that control stochastic properties of the field. For a full reference, you should see the [Full API documentation](https://parafields.readthedocs.io/en/latest/api.html#parafields.generate_field). Here, we show some illustrative examples:"
   ]
  },
  {
   "cell_type": "code",
   "execution_count": null,
   "id": "bfea8972-13ff-4a37-ba46-2a58afe6fdcd",
   "metadata": {},
   "outputs": [],
   "source": [
    "parafields.generate_field(cells=(256, 256), covariance=\"cubic\", variance=1.0)"
   ]
  },
  {
   "cell_type": "code",
   "execution_count": null,
   "id": "0703b220-a286-49fe-94a2-d32b7677d699",
   "metadata": {},
   "outputs": [],
   "source": [
    "parafields.generate_field(\n",
    "    cells=(256, 256), covariance=\"cauchy\", variance=0.5, corrLength=0.25\n",
    ")"
   ]
  },
  {
   "cell_type": "code",
   "execution_count": null,
   "id": "78707fef-ef87-4592-a1b8-8acc33f043c2",
   "metadata": {},
   "outputs": [],
   "source": [
    "parafields.generate_field(cells=(256, 256), covariance=\"whiteNoise\", variance=0.1)"
   ]
  },
  {
   "cell_type": "code",
   "execution_count": null,
   "id": "d7a1ad31-2f36-43bb-8fc1-d16d84162e98",
   "metadata": {},
   "outputs": [],
   "source": [
    "parafields.generate_field(\n",
    "    cells=(256, 256),\n",
    "    covariance=\"gaussian\",\n",
    "    variance=0.1,\n",
    "    corrLength=0.25,\n",
    "    periodic=True,\n",
    ")"
   ]
  },
  {
   "cell_type": "code",
   "execution_count": null,
   "id": "6fff417b-8f31-43c2-abc4-0c1ee8c8d948",
   "metadata": {},
   "outputs": [],
   "source": [
    "parafields.generate_field(\n",
    "    cells=(256, 256),\n",
    "    covariance=\"exponential\",\n",
    "    variance=1.0,\n",
    "    anisotropy=\"axiparallel\",\n",
    "    corrLength=[0.05, 0.2],\n",
    ")"
   ]
  },
  {
   "cell_type": "markdown",
   "id": "a21dadf2-bdfe-4dea-b007-8d160f394042",
   "metadata": {},
   "source": [
    "### Deterministic Field generation"
   ]
  },
  {
   "cell_type": "markdown",
   "id": "3bbd6fda-83e7-4862-bdc8-5731c5ad71ac",
   "metadata": {},
   "source": [
    "The pseudo-random number generator that is used by `parafields` can be provided a seed. By default, the `seed` is parameter is `None`, which means that a new seed will be generated on each run. However, the seed can be explicitly set in order to allow deterministic field generation:"
   ]
  },
  {
   "cell_type": "code",
   "execution_count": null,
   "id": "8cfd8b4f-0a70-40ef-9d0f-f513e802b351",
   "metadata": {},
   "outputs": [],
   "source": [
    "field1 = parafields.generate_field(\n",
    "    cells=(256, 256), covariance=\"exponential\", variance=1.0, seed=42\n",
    ")"
   ]
  },
  {
   "cell_type": "code",
   "execution_count": null,
   "id": "20b7687c-2663-48e4-a3a4-f818b230fa3c",
   "metadata": {},
   "outputs": [],
   "source": [
    "field2 = parafields.generate_field(\n",
    "    cells=(256, 256), covariance=\"exponential\", variance=1.0, seed=42\n",
    ")"
   ]
  },
  {
   "cell_type": "code",
   "execution_count": null,
   "id": "5e4488cb-16b4-4e0d-aa0e-3148a2529ecc",
   "metadata": {},
   "outputs": [],
   "source": [
    "np.allclose(field1.evaluate(), field2.evaluate())"
   ]
  },
  {
   "cell_type": "markdown",
   "id": "7847b357-46f5-4db3-a70f-11fbeeea1573",
   "metadata": {},
   "source": [
    "If you want to create new realization of a random field with another seed, you can also explicitly regenerate the field:"
   ]
  },
  {
   "cell_type": "code",
   "execution_count": null,
   "id": "ba0f0347-868e-4c7d-957f-6213d81fb50a",
   "metadata": {},
   "outputs": [],
   "source": [
    "field1.generate(seed=0)"
   ]
  }
 ],
 "metadata": {
  "kernelspec": {
   "display_name": "Python 3",
   "language": "python",
   "name": "python3"
  },
  "language_info": {
   "codemirror_mode": {
    "name": "ipython",
    "version": 3
   },
   "file_extension": ".py",
   "mimetype": "text/x-python",
   "name": "python",
   "nbconvert_exporter": "python",
   "pygments_lexer": "ipython3",
   "version": "3.10.5"
  }
 },
 "nbformat": 4,
 "nbformat_minor": 5
}
